{
 "cells": [
  {
   "cell_type": "markdown",
   "id": "4f8db51b",
   "metadata": {},
   "source": [
    "# Generador de Código para Keil µVision5\n",
    "\n",
    "\n",
    "* Esta jugada genera automaticamente fragmentos de codigo C (plantillas) para configurar perifericos comunes en microcontroladores ARM Cotes de 32 Bits, de las familias STM32, NXP, Texas Instruments, entre otros.\n",
    "\n",
    "* La herramineta permite elegir fabricante, modelo de micro, periferico y puerto y/o Bit de entrada y/o salida\n",
    "\n",
    "* Aplica arquitectura orientada a vainas, implementa al menos 5 patrones de diseño (Factory, Strategy, Adapter, Builder, Facade / plugin Registry) y al menos se lograron tres principios SOLID\n"
   ]
  },
  {
   "cell_type": "code",
   "execution_count": null,
   "id": "ffcba5ac",
   "metadata": {
    "vscode": {
     "languageId": "plaintext"
    }
   },
   "outputs": [],
   "source": [
    "\n",
    "app/\n",
    " ├─ main.py                         # CLI interactiva + validaciones de entrada\n",
    " ├─ models.py                       # Clases de dominio: MCU, Peripheral, ConfigOptions\n",
    " ├─ factories.py                    # PeripheralFactory\n",
    " ├─ code_generator.py               # Facade / coordinador del flujo (Factory+Strategy+Builder)\n",
    " ├─ strategy.py                     # Selección de plugin/adapter (Strategy)\n",
    " ├─ builders/\n",
    " │   ├─ base_builder.py             # BaseCodeBuilder\n",
    " │   └─ c_code_builder.py           # CCodeBuilder (con add_gpio_init, add_uart_init)\n",
    " ├─ adapters/\n",
    " │   ├─ base_adapter.py             # BaseAdapter (interfaz abstracta)\n",
    " │   ├─ stm32_adapter.py            # STM32Adapter (genera CRL/CRH o MODER según MCU)\n",
    " │   ├─ nxp_adapter.py              # NXPAdapter (Kinetis-style code)\n",
    " │   └─ ti_adapter.py               # TIAdapter (MSP432 Pn->DIR/OUT/REN)\n",
    " ├─ plugins/\n",
    " │   ├─ registry.py                 # plugin_registry, register_manufacturer, get_plugin\n",
    " │   ├─ stm32_plugin.py             # registra STM32\n",
    " │   ├─ nxp_plugin.py               # registra NXP\n",
    " │   └─ ti_plugin.py                # registra TI\n",
    " └─ tests/"
   ]
  },
  {
   "cell_type": "markdown",
   "id": "aa5b3cec",
   "metadata": {},
   "source": [
    "### Flujo funcional de la jugada\n",
    "\n",
    "1. El Usuario ejecuta python -m app.main (CLI).\n",
    "\n",
    "2. Se piden: __manufacturer, mcu_model, peripheral_type, name, mode, pin__ ( Aqui se hacen algunas   validaciones básicas y se normaliza la entrada, como quien dice \"todo a mayúsculas\").\n",
    "\n",
    "3. Se crea CodeGenerator(__manufacturer, mcu_model__) (actúa como facade y coordina).\n",
    "\n",
    "4. __PeripheralFactory.create()__ crea un objeto Peripheral.\n",
    "\n",
    "5. CodeGenerator solicita a __CodeGenerationStrategy(manufacturer, mcu_model)__ el adaptador/plugin apropiado (mediante el registry).\n",
    "\n",
    "6. El adaptador genera las líneas de C pertinentes que el __CCodeBuilder__ compone como salida.\n",
    "\n",
    "7. Se imprime el código en consola."
   ]
  },
  {
   "cell_type": "markdown",
   "id": "3ff1e44e",
   "metadata": {},
   "source": [
    "## POO: características y evidencia, al menos aguna vaina se pudo demostrar\n",
    "\n",
    "1. Abstracción\n",
    "\n",
    "BaseAdapter (app/adapters/base_adapter.py) define una interfaz abstracta generate/generate_code que oculta detalles de implementación.\n",
    "Evidencia: archivo base_adapter.py con método abstracto."
   ]
  }
 ],
 "metadata": {
  "language_info": {
   "name": "python"
  }
 },
 "nbformat": 4,
 "nbformat_minor": 5
}
